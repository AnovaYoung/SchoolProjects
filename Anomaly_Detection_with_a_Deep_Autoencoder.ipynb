{
  "cells": [
    {
      "cell_type": "markdown",
      "metadata": {
        "id": "view-in-github",
        "colab_type": "text"
      },
      "source": [
        "<a href=\"https://colab.research.google.com/github/AnovaYoung/SchoolProjects/blob/main/Anomaly_Detection_with_a_Deep_Autoencoder.ipynb\" target=\"_parent\"><img src=\"https://colab.research.google.com/assets/colab-badge.svg\" alt=\"Open In Colab\"/></a>"
      ]
    },
    {
      "cell_type": "code",
      "execution_count": null,
      "metadata": {
        "id": "KuHuse7GWpYr",
        "outputId": "aee1ad63-6663-4060-c5a2-cb737c053645"
      },
      "outputs": [
        {
          "name": "stdout",
          "output_type": "stream",
          "text": [
            "   Time        V1        V2        V3        V4        V5        V6        V7  \\\n",
            "0   0.0 -1.359807 -0.072781  2.536347  1.378155 -0.338321  0.462388  0.239599   \n",
            "1   0.0  1.191857  0.266151  0.166480  0.448154  0.060018 -0.082361 -0.078803   \n",
            "2   1.0 -1.358354 -1.340163  1.773209  0.379780 -0.503198  1.800499  0.791461   \n",
            "3   1.0 -0.966272 -0.185226  1.792993 -0.863291 -0.010309  1.247203  0.237609   \n",
            "4   2.0 -1.158233  0.877737  1.548718  0.403034 -0.407193  0.095921  0.592941   \n",
            "\n",
            "         V8        V9  ...       V21       V22       V23       V24       V25  \\\n",
            "0  0.098698  0.363787  ... -0.018307  0.277838 -0.110474  0.066928  0.128539   \n",
            "1  0.085102 -0.255425  ... -0.225775 -0.638672  0.101288 -0.339846  0.167170   \n",
            "2  0.247676 -1.514654  ...  0.247998  0.771679  0.909412 -0.689281 -0.327642   \n",
            "3  0.377436 -1.387024  ... -0.108300  0.005274 -0.190321 -1.175575  0.647376   \n",
            "4 -0.270533  0.817739  ... -0.009431  0.798278 -0.137458  0.141267 -0.206010   \n",
            "\n",
            "        V26       V27       V28  Amount  Class  \n",
            "0 -0.189115  0.133558 -0.021053  149.62      0  \n",
            "1  0.125895 -0.008983  0.014724    2.69      0  \n",
            "2 -0.139097 -0.055353 -0.059752  378.66      0  \n",
            "3 -0.221929  0.062723  0.061458  123.50      0  \n",
            "4  0.502292  0.219422  0.215153   69.99      0  \n",
            "\n",
            "[5 rows x 31 columns]\n",
            "         V1        V2        V3        V4        V5        V6        V7  \\\n",
            "0 -1.359807 -0.072781  2.536347  1.378155 -0.338321  0.462388  0.239599   \n",
            "1  1.191857  0.266151  0.166480  0.448154  0.060018 -0.082361 -0.078803   \n",
            "2 -1.358354 -1.340163  1.773209  0.379780 -0.503198  1.800499  0.791461   \n",
            "3 -0.966272 -0.185226  1.792993 -0.863291 -0.010309  1.247203  0.237609   \n",
            "4 -1.158233  0.877737  1.548718  0.403034 -0.407193  0.095921  0.592941   \n",
            "\n",
            "         V8        V9       V10  ...       V20       V21       V22       V23  \\\n",
            "0  0.098698  0.363787  0.090794  ...  0.251412 -0.018307  0.277838 -0.110474   \n",
            "1  0.085102 -0.255425 -0.166974  ... -0.069083 -0.225775 -0.638672  0.101288   \n",
            "2  0.247676 -1.514654  0.207643  ...  0.524980  0.247998  0.771679  0.909412   \n",
            "3  0.377436 -1.387024 -0.054952  ... -0.208038 -0.108300  0.005274 -0.190321   \n",
            "4 -0.270533  0.817739  0.753074  ...  0.408542 -0.009431  0.798278 -0.137458   \n",
            "\n",
            "        V24       V25       V26       V27       V28    Amount  \n",
            "0  0.066928  0.128539 -0.189115  0.133558 -0.021053  0.244964  \n",
            "1 -0.339846  0.167170  0.125895 -0.008983  0.014724 -0.342475  \n",
            "2 -0.689281 -0.327642 -0.139097 -0.055353 -0.059752  1.160686  \n",
            "3 -1.175575  0.647376 -0.221929  0.062723  0.061458  0.140534  \n",
            "4  0.141267 -0.206010  0.502292  0.219422  0.215153 -0.073403  \n",
            "\n",
            "[5 rows x 29 columns]\n",
            "0    0\n",
            "1    0\n",
            "2    0\n",
            "3    0\n",
            "4    0\n",
            "Name: Class, dtype: int64\n"
          ]
        }
      ],
      "source": [
        "import pandas as pd\n",
        "from sklearn.preprocessing import StandardScaler\n",
        "\n",
        "# Load the dataset\n",
        "file_path = \"/Users/anovayoungers/Downloads/creditcard.csv\"\n",
        "data = pd.read_csv(file_path)\n",
        "\n",
        "# Display the first few rows of the dataset\n",
        "print(data.head())\n",
        "\n",
        "# Normalize the 'Amount' column using StandardScaler\n",
        "scaler = StandardScaler()\n",
        "data['Amount'] = scaler.fit_transform(data['Amount'].values.reshape(-1, 1))\n",
        "\n",
        "# Drop the 'Time' column as it's not needed for anomaly detection\n",
        "data = data.drop(['Time'], axis=1)\n",
        "\n",
        "# Separate features and labels\n",
        "X = data.drop(['Class'], axis=1)\n",
        "y = data['Class']\n",
        "\n",
        "# Display the first few rows of the preprocessed dataset\n",
        "print(X.head())\n",
        "print(y.head())\n",
        "\n"
      ]
    },
    {
      "cell_type": "markdown",
      "metadata": {
        "id": "5Ri8pH0GWpYs"
      },
      "source": [
        "The initial preprocessing steps I performed are pretty good, but I do need to address a few more aspects to ensure the data is fully preprocessed for the deep autoencoder.\n",
        "\n",
        "Specifically:\n",
        "\n",
        "I need to make sure all features are scaled. (except labels)\n",
        "\n",
        "Also, I'll Ensure the dataset is balanced since the dataset the way it is, is highly imbalanced.\n",
        "\n",
        "Ok, I'm going to refine the preprocessing by scaling all the features and then addressing class imbalance using SMOTE."
      ]
    },
    {
      "cell_type": "markdown",
      "metadata": {
        "id": "lQGC32twWpYs"
      },
      "source": [
        "We are going to start from the beginning."
      ]
    },
    {
      "cell_type": "code",
      "execution_count": null,
      "metadata": {
        "id": "ZPHebgYoWpYs",
        "outputId": "5eddfe6b-f249-434a-a11d-412dd126143a"
      },
      "outputs": [
        {
          "name": "stdout",
          "output_type": "stream",
          "text": [
            "         V1        V2        V3        V4        V5        V6        V7  \\\n",
            "0 -0.694242 -0.044075  1.672773  0.973366 -0.245117  0.347068  0.193679   \n",
            "1  0.608496  0.161176  0.109797  0.316523  0.043483 -0.061820 -0.063700   \n",
            "2 -0.693500 -0.811578  1.169468  0.268231 -0.364572  1.351454  0.639776   \n",
            "3 -0.493325 -0.112169  1.182516 -0.609727 -0.007469  0.936150  0.192071   \n",
            "4 -0.591330  0.531541  1.021412  0.284655 -0.295015  0.071999  0.479302   \n",
            "\n",
            "         V8        V9       V10  ...       V20       V21       V22       V23  \\\n",
            "0  0.082637  0.331128  0.083386  ...  0.326118 -0.024923  0.382854 -0.176911   \n",
            "1  0.071253 -0.232494 -0.153350  ... -0.089611 -0.307377 -0.880077  0.162201   \n",
            "2  0.207373 -1.378675  0.190700  ...  0.680975  0.337632  1.063358  1.456320   \n",
            "3  0.316018 -1.262503 -0.050468  ... -0.269855 -0.147443  0.007267 -0.304777   \n",
            "4 -0.226510  0.744326  0.691625  ...  0.529939 -0.012839  1.100011 -0.220123   \n",
            "\n",
            "        V24       V25       V26       V27       V28    Amount  \n",
            "0  0.110507  0.246585 -0.392170  0.330892 -0.063781  0.244964  \n",
            "1 -0.561131  0.320694  0.261069 -0.022256  0.044608 -0.342475  \n",
            "2 -1.138092 -0.628537 -0.288447 -0.137137 -0.181021  1.160686  \n",
            "3 -1.941027  1.241904 -0.460217  0.155396  0.186189  0.140534  \n",
            "4  0.233250 -0.395202  1.041611  0.543620  0.651816 -0.073403  \n",
            "\n",
            "[5 rows x 29 columns]\n",
            "0    0\n",
            "1    0\n",
            "2    0\n",
            "3    0\n",
            "4    0\n",
            "Name: Class, dtype: int64\n"
          ]
        }
      ],
      "source": [
        "from imblearn.over_sampling import SMOTE\n",
        "\n",
        "file_path = \"/Users/anovayoungers/Downloads/creditcard.csv\"\n",
        "data = pd.read_csv(file_path)\n",
        "\n",
        "scaler = StandardScaler()\n",
        "data['Amount'] = scaler.fit_transform(data['Amount'].values.reshape(-1, 1))\n",
        "\n",
        "data = data.drop(['Time'], axis=1)\n",
        "\n",
        "X = data.drop(['Class'], axis=1)\n",
        "y = data['Class']\n",
        "\n",
        "# Scale all features\n",
        "scaler = StandardScaler()\n",
        "X_scaled = scaler.fit_transform(X)\n",
        "\n",
        "# SMOTE to address class-imbalance.\n",
        "smote = SMOTE(random_state=42)\n",
        "X_resampled, y_resampled = smote.fit_resample(X_scaled, y)\n",
        "\n",
        "# Convert the resampled data back to DataFrame\n",
        "X_resampled = pd.DataFrame(X_resampled, columns=X.columns)\n",
        "y_resampled = pd.Series(y_resampled, name='Class')\n",
        "\n",
        "# Display the first few rows of the preprocessed dataset\n",
        "print(X_resampled.head())\n",
        "print(y_resampled.head())\n"
      ]
    },
    {
      "cell_type": "markdown",
      "metadata": {
        "id": "Y4dh8Y1-WpYs"
      },
      "source": [
        "**Now splitting the dataset into training, validation, and testing sets.**"
      ]
    },
    {
      "cell_type": "code",
      "execution_count": null,
      "metadata": {
        "id": "a7w-lICMWpYs",
        "outputId": "0bdfb44e-7db0-4f87-b8ec-7ea86d4b47e5"
      },
      "outputs": [
        {
          "name": "stdout",
          "output_type": "stream",
          "text": [
            "Training set shape: (341178, 29)\n",
            "Validation set shape: (113726, 29)\n",
            "Test set shape: (113726, 29)\n"
          ]
        }
      ],
      "source": [
        "from sklearn.model_selection import train_test_split\n",
        "\n",
        "# Training, validation, and testing sets\n",
        "X_train, X_temp, y_train, y_temp = train_test_split(X_resampled, y_resampled, test_size=0.4, random_state=42)\n",
        "X_val, X_test, y_val, y_test = train_test_split(X_temp, y_temp, test_size=0.5, random_state=42)\n",
        "\n",
        "# Display the shapes\n",
        "print(f'Training set shape: {X_train.shape}')\n",
        "print(f'Validation set shape: {X_val.shape}')\n",
        "print(f'Test set shape: {X_test.shape}')\n"
      ]
    },
    {
      "cell_type": "markdown",
      "metadata": {
        "id": "LYZ_SCHgWpYs"
      },
      "source": [
        "**Now I'll be designing and training a deep autoencoder with multiple layers to encode the input data and decode it back to its original form.**"
      ]
    },
    {
      "cell_type": "code",
      "execution_count": null,
      "metadata": {
        "id": "TdDkUyj2WpYs",
        "outputId": "53451ba8-afd4-4cac-b8d9-88cef2445427"
      },
      "outputs": [
        {
          "name": "stdout",
          "output_type": "stream",
          "text": [
            "Epoch 1/50\n",
            "1333/1333 [==============================] - 1s 741us/step - loss: 11.3713 - val_loss: 11.2090\n",
            "Epoch 2/50\n",
            "1333/1333 [==============================] - 1s 686us/step - loss: 11.2403 - val_loss: 11.1945\n",
            "Epoch 3/50\n",
            "1333/1333 [==============================] - 1s 681us/step - loss: 11.2306 - val_loss: 11.1876\n",
            "Epoch 4/50\n",
            "1333/1333 [==============================] - 1s 696us/step - loss: 11.2255 - val_loss: 11.1838\n",
            "Epoch 5/50\n",
            "1333/1333 [==============================] - 1s 679us/step - loss: 11.2217 - val_loss: 11.1806\n",
            "Epoch 6/50\n",
            "1333/1333 [==============================] - 1s 680us/step - loss: 11.2194 - val_loss: 11.1789\n",
            "Epoch 7/50\n",
            "1333/1333 [==============================] - 1s 689us/step - loss: 11.2167 - val_loss: 11.1758\n",
            "Epoch 8/50\n",
            "1333/1333 [==============================] - 1s 687us/step - loss: 11.2143 - val_loss: 11.1738\n",
            "Epoch 9/50\n",
            "1333/1333 [==============================] - 1s 678us/step - loss: 11.2126 - val_loss: 11.1723\n",
            "Epoch 10/50\n",
            "1333/1333 [==============================] - 1s 682us/step - loss: 11.2109 - val_loss: 11.1706\n",
            "Epoch 11/50\n",
            "1333/1333 [==============================] - 1s 683us/step - loss: 11.2091 - val_loss: 11.1690\n",
            "Epoch 12/50\n",
            "1333/1333 [==============================] - 1s 686us/step - loss: 11.2075 - val_loss: 11.1672\n",
            "Epoch 13/50\n",
            "1333/1333 [==============================] - 1s 673us/step - loss: 11.2057 - val_loss: 11.1655\n",
            "Epoch 14/50\n",
            "1333/1333 [==============================] - 1s 679us/step - loss: 11.2038 - val_loss: 11.1633\n",
            "Epoch 15/50\n",
            "1333/1333 [==============================] - 1s 689us/step - loss: 11.2013 - val_loss: 11.1604\n",
            "Epoch 16/50\n",
            "1333/1333 [==============================] - 1s 676us/step - loss: 11.1988 - val_loss: 11.1585\n",
            "Epoch 17/50\n",
            "1333/1333 [==============================] - 1s 679us/step - loss: 11.1971 - val_loss: 11.1571\n",
            "Epoch 18/50\n",
            "1333/1333 [==============================] - 1s 686us/step - loss: 11.1954 - val_loss: 11.1556\n",
            "Epoch 19/50\n",
            "1333/1333 [==============================] - 1s 677us/step - loss: 11.1941 - val_loss: 11.1542\n",
            "Epoch 20/50\n",
            "1333/1333 [==============================] - 1s 727us/step - loss: 11.1931 - val_loss: 11.1533\n",
            "Epoch 21/50\n",
            "1333/1333 [==============================] - 1s 679us/step - loss: 11.1924 - val_loss: 11.1525\n",
            "Epoch 22/50\n",
            "1333/1333 [==============================] - 1s 688us/step - loss: 11.1917 - val_loss: 11.1518\n",
            "Epoch 23/50\n",
            "1333/1333 [==============================] - 1s 680us/step - loss: 11.1910 - val_loss: 11.1517\n",
            "Epoch 24/50\n",
            "1333/1333 [==============================] - 1s 677us/step - loss: 11.1904 - val_loss: 11.1506\n",
            "Epoch 25/50\n",
            "1333/1333 [==============================] - 1s 687us/step - loss: 11.1900 - val_loss: 11.1511\n",
            "Epoch 26/50\n",
            "1333/1333 [==============================] - 1s 679us/step - loss: 11.1895 - val_loss: 11.1500\n",
            "Epoch 27/50\n",
            "1333/1333 [==============================] - 1s 677us/step - loss: 11.1891 - val_loss: 11.1500\n",
            "Epoch 28/50\n",
            "1333/1333 [==============================] - 1s 680us/step - loss: 11.1886 - val_loss: 11.1491\n",
            "Epoch 29/50\n",
            "1333/1333 [==============================] - 1s 687us/step - loss: 11.1885 - val_loss: 11.1489\n",
            "Epoch 30/50\n",
            "1333/1333 [==============================] - 1s 682us/step - loss: 11.1880 - val_loss: 11.1482\n",
            "Epoch 31/50\n",
            "1333/1333 [==============================] - 1s 679us/step - loss: 11.1877 - val_loss: 11.1479\n",
            "Epoch 32/50\n",
            "1333/1333 [==============================] - 1s 687us/step - loss: 11.1875 - val_loss: 11.1484\n",
            "Epoch 33/50\n",
            "1333/1333 [==============================] - 1s 677us/step - loss: 11.1872 - val_loss: 11.1476\n",
            "Epoch 34/50\n",
            "1333/1333 [==============================] - 1s 674us/step - loss: 11.1868 - val_loss: 11.1473\n",
            "Epoch 35/50\n",
            "1333/1333 [==============================] - 1s 677us/step - loss: 11.1866 - val_loss: 11.1471\n",
            "Epoch 36/50\n",
            "1333/1333 [==============================] - 1s 687us/step - loss: 11.1862 - val_loss: 11.1464\n",
            "Epoch 37/50\n",
            "1333/1333 [==============================] - 1s 679us/step - loss: 11.1859 - val_loss: 11.1462\n",
            "Epoch 38/50\n",
            "1333/1333 [==============================] - 1s 683us/step - loss: 11.1857 - val_loss: 11.1462\n",
            "Epoch 39/50\n",
            "1333/1333 [==============================] - 1s 687us/step - loss: 11.1855 - val_loss: 11.1459\n",
            "Epoch 40/50\n",
            "1333/1333 [==============================] - 1s 677us/step - loss: 11.1855 - val_loss: 11.1457\n",
            "Epoch 41/50\n",
            "1333/1333 [==============================] - 1s 678us/step - loss: 11.1853 - val_loss: 11.1455\n",
            "Epoch 42/50\n",
            "1333/1333 [==============================] - 1s 678us/step - loss: 11.1849 - val_loss: 11.1456\n",
            "Epoch 43/50\n",
            "1333/1333 [==============================] - 1s 686us/step - loss: 11.1849 - val_loss: 11.1453\n",
            "Epoch 44/50\n",
            "1333/1333 [==============================] - 1s 680us/step - loss: 11.1847 - val_loss: 11.1451\n",
            "Epoch 45/50\n",
            "1333/1333 [==============================] - 1s 678us/step - loss: 11.1845 - val_loss: 11.1456\n",
            "Epoch 46/50\n",
            "1333/1333 [==============================] - 1s 685us/step - loss: 11.1845 - val_loss: 11.1456\n",
            "Epoch 47/50\n",
            "1333/1333 [==============================] - 1s 681us/step - loss: 11.1845 - val_loss: 11.1448\n",
            "Epoch 48/50\n",
            "1333/1333 [==============================] - 1s 680us/step - loss: 11.1842 - val_loss: 11.1442\n",
            "Epoch 49/50\n",
            "1333/1333 [==============================] - 1s 687us/step - loss: 11.1840 - val_loss: 11.1442\n",
            "Epoch 50/50\n",
            "1333/1333 [==============================] - 1s 683us/step - loss: 11.1837 - val_loss: 11.1440\n"
          ]
        },
        {
          "data": {
            "image/png": "[encoded data removed]",
            "text/plain": [
              "<Figure size 640x480 with 1 Axes>"
            ]
          },
          "metadata": {},
          "output_type": "display_data"
        }
      ],
      "source": [
        "import numpy as np\n",
        "import tensorflow as tf\n",
        "from tensorflow.keras.models import Model\n",
        "from tensorflow.keras.layers import Input, Dense\n",
        "\n",
        "# Set random seeds for reproducibility\n",
        "np.random.seed(42)\n",
        "tf.random.set_seed(42)\n",
        "\n",
        "# Define a deep autoencoder with an encoder and decoder.\n",
        "input_dim = X_train.shape[1]\n",
        "encoding_dim = 14\n",
        "\n",
        "input_layer = Input(shape=(input_dim,))\n",
        "encoder = Dense(encoding_dim, activation='relu')(input_layer)\n",
        "encoder = Dense(int(encoding_dim / 2), activation='relu')(encoder)\n",
        "encoder = Dense(int(encoding_dim / 4), activation='relu')(encoder)\n",
        "\n",
        "decoder = Dense(int(encoding_dim / 2), activation='relu')(encoder)\n",
        "decoder = Dense(encoding_dim, activation='relu')(decoder)\n",
        "decoder = Dense(input_dim, activation='sigmoid')(decoder)\n",
        "\n",
        "autoencoder = Model(inputs=input_layer, outputs=decoder)\n",
        "\n",
        "# Compile the autoencoder using the Adam optimizer and mean squared error loss.\n",
        "autoencoder.compile(optimizer='adam', loss='mean_squared_error')\n",
        "\n",
        "# Train the autoencoder\n",
        "history = autoencoder.fit(X_train, X_train,\n",
        "                        epochs=50,\n",
        "                        batch_size=256,\n",
        "                        shuffle=True,\n",
        "                        validation_data=(X_val, X_val))\n",
        "\n",
        "# Plot the training and val loss\n",
        "import matplotlib.pyplot as plt\n",
        "\n",
        "plt.plot(history.history['loss'], label='Training Loss')\n",
        "plt.plot(history.history['val_loss'], label='Validation Loss')\n",
        "plt.legend()\n",
        "plt.show()\n"
      ]
    },
    {
      "cell_type": "markdown",
      "metadata": {
        "id": "ZMtqD6FdWpYs"
      },
      "source": [
        "Decreasing Trend: Both the training and validation loss show a decreasing trend over the epochs, this is indicative of the autoencoder learning to better reconstruct the input data.\n",
        "\n",
        "Validation Loss Lower than Training Loss: In my case, the validation loss is slightly lower than the training loss. This is uncommon but can happen can happen because of noise in the training data or regularization effects, there are a lot of potenital reasons."
      ]
    },
    {
      "cell_type": "markdown",
      "metadata": {
        "id": "HXgsJm-jWpYs"
      },
      "source": [
        "Let's modify the autoencoder model to include dropout layers: they can help prevent overfitting by randomly setting a fraction of input units to 0 at each update during training, and batch normalization, which can help stabilize and improve the training process."
      ]
    },
    {
      "cell_type": "code",
      "execution_count": null,
      "metadata": {
        "id": "1r3KgAyUWpYt",
        "outputId": "0e51f480-4fae-45ce-f46a-dddc19a492d9"
      },
      "outputs": [
        {
          "name": "stdout",
          "output_type": "stream",
          "text": [
            "Epoch 1/50\n",
            "1333/1333 [==============================] - 2s 1ms/step - loss: 11.5460 - val_loss: 11.2578\n",
            "Epoch 2/50\n",
            "1333/1333 [==============================] - 1s 967us/step - loss: 11.3087 - val_loss: 11.2392\n",
            "Epoch 3/50\n",
            "1333/1333 [==============================] - 1s 977us/step - loss: 11.2927 - val_loss: 11.2326\n",
            "Epoch 4/50\n",
            "1333/1333 [==============================] - 1s 963us/step - loss: 11.2843 - val_loss: 11.2187\n",
            "Epoch 5/50\n",
            "1333/1333 [==============================] - 1s 974us/step - loss: 11.2756 - val_loss: 11.2092\n",
            "Epoch 6/50\n",
            "1333/1333 [==============================] - 1s 967us/step - loss: 11.2708 - val_loss: 11.2061\n",
            "Epoch 7/50\n",
            "1333/1333 [==============================] - 1s 974us/step - loss: 11.2680 - val_loss: 11.2038\n",
            "Epoch 8/50\n",
            "1333/1333 [==============================] - 1s 978us/step - loss: 11.2663 - val_loss: 11.2017\n",
            "Epoch 9/50\n",
            "1333/1333 [==============================] - 1s 966us/step - loss: 11.2650 - val_loss: 11.2003\n",
            "Epoch 10/50\n",
            "1333/1333 [==============================] - 1s 974us/step - loss: 11.2638 - val_loss: 11.1989\n",
            "Epoch 11/50\n",
            "1333/1333 [==============================] - 1s 965us/step - loss: 11.2624 - val_loss: 11.1975\n",
            "Epoch 12/50\n",
            "1333/1333 [==============================] - 1s 959us/step - loss: 11.2617 - val_loss: 11.1969\n",
            "Epoch 13/50\n",
            "1333/1333 [==============================] - 1s 965us/step - loss: 11.2611 - val_loss: 11.1959\n",
            "Epoch 14/50\n",
            "1333/1333 [==============================] - 1s 959us/step - loss: 11.2600 - val_loss: 11.1964\n",
            "Epoch 15/50\n",
            "1333/1333 [==============================] - 1s 971us/step - loss: 11.2598 - val_loss: 11.1956\n",
            "Epoch 16/50\n",
            "1333/1333 [==============================] - 1s 966us/step - loss: 11.2590 - val_loss: 11.1949\n",
            "Epoch 17/50\n",
            "1333/1333 [==============================] - 1s 962us/step - loss: 11.2583 - val_loss: 11.1953\n",
            "Epoch 18/50\n",
            "1333/1333 [==============================] - 1s 969us/step - loss: 11.2581 - val_loss: 11.1944\n",
            "Epoch 19/50\n",
            "1333/1333 [==============================] - 1s 965us/step - loss: 11.2581 - val_loss: 11.1942\n",
            "Epoch 20/50\n",
            "1333/1333 [==============================] - 1s 963us/step - loss: 11.2573 - val_loss: 11.1929\n",
            "Epoch 21/50\n",
            "1333/1333 [==============================] - 1s 962us/step - loss: 11.2569 - val_loss: 11.1930\n",
            "Epoch 22/50\n",
            "1333/1333 [==============================] - 1s 964us/step - loss: 11.2569 - val_loss: 11.1927\n",
            "Epoch 23/50\n",
            "1333/1333 [==============================] - 1s 973us/step - loss: 11.2562 - val_loss: 11.1922\n",
            "Epoch 24/50\n",
            "1333/1333 [==============================] - 1s 963us/step - loss: 11.2556 - val_loss: 11.1894\n",
            "Epoch 25/50\n",
            "1333/1333 [==============================] - 1s 963us/step - loss: 11.2550 - val_loss: 11.1881\n",
            "Epoch 26/50\n",
            "1333/1333 [==============================] - 1s 972us/step - loss: 11.2540 - val_loss: 11.1864\n",
            "Epoch 27/50\n",
            "1333/1333 [==============================] - 1s 957us/step - loss: 11.2537 - val_loss: 11.1867\n",
            "Epoch 28/50\n",
            "1333/1333 [==============================] - 1s 965us/step - loss: 11.2528 - val_loss: 11.1866\n",
            "Epoch 29/50\n",
            "1333/1333 [==============================] - 1s 957us/step - loss: 11.2530 - val_loss: 11.1856\n",
            "Epoch 30/50\n",
            "1333/1333 [==============================] - 1s 994us/step - loss: 11.2527 - val_loss: 11.1849\n",
            "Epoch 31/50\n",
            "1333/1333 [==============================] - 1s 994us/step - loss: 11.2521 - val_loss: 11.1844\n",
            "Epoch 32/50\n",
            "1333/1333 [==============================] - 1s 980us/step - loss: 11.2521 - val_loss: 11.1858\n",
            "Epoch 33/50\n",
            "1333/1333 [==============================] - 1s 971us/step - loss: 11.2519 - val_loss: 11.1851\n",
            "Epoch 34/50\n",
            "1333/1333 [==============================] - 1s 958us/step - loss: 11.2518 - val_loss: 11.1847\n",
            "Epoch 35/50\n",
            "1333/1333 [==============================] - 1s 962us/step - loss: 11.2517 - val_loss: 11.1841\n",
            "Epoch 36/50\n",
            "1333/1333 [==============================] - 1s 976us/step - loss: 11.2517 - val_loss: 11.1839\n",
            "Epoch 37/50\n",
            "1333/1333 [==============================] - 1s 971us/step - loss: 11.2516 - val_loss: 11.1837\n",
            "Epoch 38/50\n",
            "1333/1333 [==============================] - 1s 976us/step - loss: 11.2518 - val_loss: 11.1827\n",
            "Epoch 39/50\n",
            "1333/1333 [==============================] - 1s 963us/step - loss: 11.2514 - val_loss: 11.1843\n",
            "Epoch 40/50\n",
            "1333/1333 [==============================] - 1s 972us/step - loss: 11.2514 - val_loss: 11.1829\n",
            "Epoch 41/50\n",
            "1333/1333 [==============================] - 1s 957us/step - loss: 11.2511 - val_loss: 11.1842\n",
            "Epoch 42/50\n",
            "1333/1333 [==============================] - 1s 960us/step - loss: 11.2515 - val_loss: 11.1840\n",
            "Epoch 43/50\n",
            "1333/1333 [==============================] - 1s 983us/step - loss: 11.2506 - val_loss: 11.1836\n"
          ]
        },
        {
          "data": {
            "image/png": "[encoded data removed]",
            "text/plain": [
              "<Figure size 640x480 with 1 Axes>"
            ]
          },
          "metadata": {},
          "output_type": "display_data"
        }
      ],
      "source": [
        "from tensorflow.keras.layers import Dropout, BatchNormalization\n",
        "\n",
        "np.random.seed(42)\n",
        "tf.random.set_seed(42)\n",
        "\n",
        "input_dim = X_train.shape[1]\n",
        "encoding_dim = 14\n",
        "\n",
        "input_layer = Input(shape=(input_dim,))\n",
        "encoder = Dense(encoding_dim, activation='relu')(input_layer)\n",
        "encoder = BatchNormalization()(encoder)\n",
        "encoder = Dropout(0.2)(encoder)\n",
        "encoder = Dense(int(encoding_dim / 2), activation='relu')(encoder)\n",
        "encoder = BatchNormalization()(encoder)\n",
        "encoder = Dropout(0.2)(encoder)\n",
        "encoder = Dense(int(encoding_dim / 4), activation='relu')(encoder)\n",
        "\n",
        "decoder = Dense(int(encoding_dim / 2), activation='relu')(encoder)\n",
        "decoder = BatchNormalization()(decoder)\n",
        "decoder = Dropout(0.2)(decoder)\n",
        "decoder = Dense(encoding_dim, activation='relu')(decoder)\n",
        "decoder = BatchNormalization()(decoder)\n",
        "decoder = Dropout(0.2)(decoder)\n",
        "decoder = Dense(input_dim, activation='sigmoid')(decoder)\n",
        "\n",
        "autoencoder = Model(inputs=input_layer, outputs=decoder)\n",
        "\n",
        "# Compile\n",
        "autoencoder.compile(optimizer='adam', loss='mean_squared_error')\n",
        "\n",
        "# Implement early stopping\n",
        "early_stopping = tf.keras.callbacks.EarlyStopping(monitor='val_loss', patience=5, restore_best_weights=True)\n",
        "\n",
        "# Train the enhanced autoencoder\n",
        "history = autoencoder.fit(X_train, X_train,\n",
        "                        epochs=50,\n",
        "                        batch_size=256,\n",
        "                        shuffle=True,\n",
        "                        validation_data=(X_val, X_val),\n",
        "                        callbacks=[early_stopping])\n",
        "\n",
        "# Plot the training and val loss\n",
        "import matplotlib.pyplot as plt\n",
        "\n",
        "plt.plot(history.history['loss'], label='Training Loss')\n",
        "plt.plot(history.history['val_loss'], label='Validation Loss')\n",
        "plt.legend()\n",
        "plt.show()"
      ]
    },
    {
      "cell_type": "markdown",
      "metadata": {
        "id": "SxsOVCA1WpYt"
      },
      "source": [
        "Ok, let me try one more time to sharpen the model."
      ]
    },
    {
      "cell_type": "markdown",
      "metadata": {
        "id": "7bZ0qmxTWpYt"
      },
      "source": [
        "**Last Attempt Model With Additional Layer and Fine-Tuned Hyper-Parameters**"
      ]
    },
    {
      "cell_type": "code",
      "execution_count": null,
      "metadata": {
        "id": "qFd6W3asWpYt",
        "outputId": "71569f95-65c4-41c7-e0b9-b230b0957f4b"
      },
      "outputs": [
        {
          "name": "stdout",
          "output_type": "stream",
          "text": [
            "Epoch 1/100\n",
            "2666/2666 [==============================] - 3s 1ms/step - loss: 11.4385 - val_loss: 11.1478\n",
            "Epoch 2/100\n",
            "2666/2666 [==============================] - 3s 960us/step - loss: 11.2166 - val_loss: 11.1381\n",
            "Epoch 3/100\n",
            "2666/2666 [==============================] - 3s 962us/step - loss: 11.2111 - val_loss: 11.1405\n",
            "Epoch 4/100\n",
            "2666/2666 [==============================] - 3s 958us/step - loss: 11.2075 - val_loss: 11.1351\n",
            "Epoch 5/100\n",
            "2666/2666 [==============================] - 3s 956us/step - loss: 11.2074 - val_loss: 11.1395\n",
            "Epoch 6/100\n",
            "2666/2666 [==============================] - 3s 954us/step - loss: 11.2072 - val_loss: 11.1356\n",
            "Epoch 7/100\n",
            "2666/2666 [==============================] - 3s 956us/step - loss: 11.2068 - val_loss: 11.1314\n",
            "Epoch 8/100\n",
            "2666/2666 [==============================] - 3s 959us/step - loss: 11.2052 - val_loss: 11.1314\n",
            "Epoch 9/100\n",
            "2666/2666 [==============================] - 3s 954us/step - loss: 11.2054 - val_loss: 11.1361\n",
            "Epoch 10/100\n",
            "2666/2666 [==============================] - 3s 950us/step - loss: 11.2060 - val_loss: 11.1328\n",
            "Epoch 11/100\n",
            "2666/2666 [==============================] - 3s 959us/step - loss: 11.2047 - val_loss: 11.1316\n",
            "Epoch 12/100\n",
            "2666/2666 [==============================] - 3s 958us/step - loss: 11.2056 - val_loss: 11.1289\n",
            "Epoch 13/100\n",
            "2666/2666 [==============================] - 3s 955us/step - loss: 11.2049 - val_loss: 11.1331\n",
            "Epoch 14/100\n",
            "2666/2666 [==============================] - 3s 954us/step - loss: 11.2047 - val_loss: 11.1291\n",
            "Epoch 15/100\n",
            "2666/2666 [==============================] - 3s 978us/step - loss: 11.2050 - val_loss: 11.1341\n",
            "Epoch 16/100\n",
            "2666/2666 [==============================] - 3s 958us/step - loss: 11.2042 - val_loss: 11.1457\n",
            "Epoch 17/100\n",
            "2666/2666 [==============================] - 3s 954us/step - loss: 11.2044 - val_loss: 11.1320\n"
          ]
        },
        {
          "data": {
            "image/png": "[encoded data removed]",
            "text/plain": [
              "<Figure size 640x480 with 1 Axes>"
            ]
          },
          "metadata": {},
          "output_type": "display_data"
        }
      ],
      "source": [
        "from tensorflow.keras.regularizers import l2\n",
        "\n",
        "np.random.seed(42)\n",
        "tf.random.set_seed(42)\n",
        "\n",
        "# Define the enhanced deep autoencoder with additional complexity and regularization\n",
        "input_dim = X_train.shape[1]\n",
        "encoding_dim = 32  # Increased complexity\n",
        "\n",
        "input_layer = Input(shape=(input_dim,))\n",
        "encoder = Dense(encoding_dim, activation='relu', kernel_regularizer=l2(0.01))(input_layer)\n",
        "encoder = BatchNormalization()(encoder)\n",
        "encoder = Dropout(0.3)(encoder)\n",
        "encoder = Dense(int(encoding_dim / 2), activation='relu', kernel_regularizer=l2(0.01))(encoder)\n",
        "encoder = BatchNormalization()(encoder)\n",
        "encoder = Dropout(0.3)(encoder)\n",
        "encoder = Dense(int(encoding_dim / 4), activation='relu', kernel_regularizer=l2(0.01))(encoder)\n",
        "\n",
        "decoder = Dense(int(encoding_dim / 2), activation='relu', kernel_regularizer=l2(0.01))(encoder)\n",
        "decoder = BatchNormalization()(decoder)\n",
        "decoder = Dropout(0.3)(decoder)\n",
        "decoder = Dense(encoding_dim, activation='relu', kernel_regularizer=l2(0.01))(decoder)\n",
        "decoder = BatchNormalization()(decoder)\n",
        "decoder = Dropout(0.3)(decoder)\n",
        "decoder = Dense(input_dim, activation='sigmoid')(decoder)\n",
        "\n",
        "autoencoder = Model(inputs=input_layer, outputs=decoder)\n",
        "\n",
        "# Compile\n",
        "autoencoder.compile(optimizer='adam', loss='mean_squared_error')\n",
        "\n",
        "early_stopping = tf.keras.callbacks.EarlyStopping(monitor='val_loss', patience=5, restore_best_weights=True)\n",
        "\n",
        "# Train the enhanced autoencoder\n",
        "history = autoencoder.fit(X_train, X_train,\n",
        "                        epochs=100,\n",
        "                        batch_size=128,\n",
        "                        shuffle=True,\n",
        "                        validation_data=(X_val, X_val),\n",
        "                        callbacks=[early_stopping])\n",
        "\n",
        "# Same Plot\n",
        "import matplotlib.pyplot as plt\n",
        "\n",
        "plt.plot(history.history['loss'], label='Training Loss')\n",
        "plt.plot(history.history['val_loss'], label='Validation Loss')\n",
        "plt.legend()\n",
        "plt.show()\n"
      ]
    },
    {
      "cell_type": "markdown",
      "metadata": {
        "id": "fkhORZ3SWpYt"
      },
      "source": [
        "Improved Convergence: Both training and validation loss show a consistent decrease and convergence, indicating that the autoencoder is learning effectively. That being said it showed that from the first model.\n",
        "Validation Loss Lower than Training Loss: The validation loss remains lower than the training loss, which could still be due to regularization effects, noise in the training data, or the nature of the SMOTE resampling, I'm not entirely sure."
      ]
    },
    {
      "cell_type": "markdown",
      "metadata": {
        "id": "X88lsdCtWpYt"
      },
      "source": [
        "**Anomaly Detection**\n",
        "\n",
        "Now I'm going to use the trained autoencoder to detect anomalies in the test set by comparing the input and output data and calculating reconstruction error."
      ]
    },
    {
      "cell_type": "code",
      "execution_count": null,
      "metadata": {
        "id": "pccAinN8WpYt",
        "outputId": "0edf9974-e955-456e-9745-d11607f4853d"
      },
      "outputs": [
        {
          "name": "stdout",
          "output_type": "stream",
          "text": [
            "3554/3554 [==============================] - 1s 281us/step\n",
            "[0 0 0 0 0 0 0 0 0 0 0 0 0 0 0 0 0 0 0 0 0 0 0 0 1 0 0 0 0 0 0 0 0 0 0 0 0\n",
            " 0 0 0 0 0 0 0 0 0 0 0 1 0 0 0 0 0 0 0 0 0 0 0 0 0 0 1 0 0 0 0 0 0 0 0 0 0\n",
            " 0 0 0 0 0 0 0 0 0 0 0 1 0 0 0 0 0 0 0 0 1 0 0 0 0 0]\n"
          ]
        }
      ],
      "source": [
        "import numpy as np\n",
        "\n",
        "# Use the trained autoencoder to make predictions on the test set\n",
        "predictions = autoencoder.predict(X_test)\n",
        "\n",
        "# Calculate the mean squared error (reconstruction error) for each instance in the test set\n",
        "mse = np.mean(np.power(X_test - predictions, 2), axis=1)\n",
        "\n",
        "# Define a threshold to classify an instance as an anomaly\n",
        "threshold = np.percentile(mse, 95)\n",
        "\n",
        "# Classify instances as anomalies if their reconstruction error is greater than the given threshold\n",
        "anomalies = mse > threshold\n",
        "\n",
        "# Map anomalies to 1 (fraud) and 0 (normal)\n",
        "y_pred = np.where(anomalies, 1, 0)\n",
        "\n",
        "# Display the first few predictions\n",
        "print(y_pred[:100])\n"
      ]
    },
    {
      "cell_type": "markdown",
      "metadata": {
        "id": "LgDaXcQpWpYt"
      },
      "source": [
        "**Evaluating the performance of the autoencoder by measuring the accuracy, precision, recall, and F1 score of the anomaly detection.**"
      ]
    },
    {
      "cell_type": "code",
      "execution_count": null,
      "metadata": {
        "id": "V4dy0DTQWpYt",
        "outputId": "1b385b72-5d71-43d4-99f6-8690dc7bcba3"
      },
      "outputs": [
        {
          "name": "stdout",
          "output_type": "stream",
          "text": [
            "Accuracy: 0.5482\n",
            "Precision: 0.9967\n",
            "Recall: 0.0994\n",
            "F1 Score: 0.1807\n",
            "Confusion Matrix:\n",
            "[[56676    19]\n",
            " [51363  5668]]\n"
          ]
        }
      ],
      "source": [
        "from sklearn.metrics import accuracy_score, precision_score, recall_score, f1_score, confusion_matrix\n",
        "\n",
        "# Calculate evaluation metrics\n",
        "accuracy = accuracy_score(y_test, y_pred)\n",
        "precision = precision_score(y_test, y_pred)\n",
        "recall = recall_score(y_test, y_pred)\n",
        "f1 = f1_score(y_test, y_pred)\n",
        "conf_matrix = confusion_matrix(y_test, y_pred)\n",
        "\n",
        "print(f'Accuracy: {accuracy:.4f}')\n",
        "print(f'Precision: {precision:.4f}')\n",
        "print(f'Recall: {recall:.4f}')\n",
        "print(f'F1 Score: {f1:.4f}')\n",
        "print('Confusion Matrix:')\n",
        "print(conf_matrix)\n"
      ]
    },
    {
      "cell_type": "markdown",
      "metadata": {
        "id": "kzOMEzdUWpYt"
      },
      "source": [
        "### Analysis of Model Performance\n",
        "\n",
        " The accuracy of the model is 54.82%, which indicates that slightly more than half of the transactions were correctly classified as either normal or fraudulent. This is not much better than random guessing. The precision score is exceptionally high at 99.67%, that means that when the model predicts a transaction as fraudulent, it is almost always correct. However, the recall score is significantly low at 9.94%; the model fails to identify a major portion of the actual fraudulent transactions. This low recall results in a truly humbling F1 score of 18.07%, reflecting the trade-off between precision and recall.\n",
        "\n",
        "The confusion matrix shows the model correctly identified 56,676 genuine transactions and 5,668 fraudulent transactions. However, it incorrectly classified 51,363 genuine transactions as fraudulent and missed 19 actual fraudulent transactions. This is a substantial number of false positives, where normal transactions are incorrectly flagged as fraud.\n",
        "\n",
        "Overall, while the model excels in precision, its practical utility is massively limited by its low recall. This imbalance meeans the need for a lot more improvements to enhance the model's ability to detect actual fraudulent transactions without significantly increasing the false positive rate. Strategies such as fine-tuning the model, adjusting the anomaly detection threshold, or employing more sophisticated techniques could help achieve a better balance between precision and recall."
      ]
    },
    {
      "cell_type": "markdown",
      "metadata": {
        "id": "qrN2pTJFWpYt"
      },
      "source": [
        "**Discuss the Limitations and Potential Applications of Deep Autoencoders for Anomaly Detection**\n",
        "\n",
        "Limitations:\n",
        "1. **Imbalance Handling**: The high precision but low recall says that the model is struggling with the imbalanced nature of the dataset. Fraudulent transactions are significantly fewer than genuine ones, and while SMOTE helps it may not fully resolve the issue.\n",
        "   \n",
        "2. **Threshold Sensitivity**: The choice of the 95th percentile as the threshold for anomaly detection is somewhat arbitrary and may not be optimal for all datasets including this one. Adjusting this threshold would significantly impact performance metrics.\n",
        "   \n",
        "3. **Reconstruction Error**: The autoencoder relies on reconstruction error to detect anomalies. If the fraudulent transactions are not significantly different from the normal transactions in the feature space, the autoencoder would probably fail to detect them.\n",
        "   \n",
        "4. **Complexity and Overfitting**: Adding more complexity (layers, neurons, regularization) can help the model learn better but also increases the risk of overfitting, especially with limited data.\n",
        "\n",
        "5. **Interpretability**: Deep autoencoders, like some select other neural networks, are often considered black-box models. It can be challenging to interpret why certain transactions are classified as anomalies.\n",
        "\n",
        "Potential Applications:\n",
        "1. **Credit Card Fraud Detection**: As demonstrated, deep autoencoders can be applied to detect fraudulent transactions. Despite limitations, they can be a part of a broader fraud detection system.\n",
        "   \n",
        "2. **Network Intrusion Detection**: Autoencoders can be used to identify unusual patterns in network traffic that may indicate cyber-attacks.\n",
        "   \n",
        "3. **Healthcare**: Detecting anomalies in medical records or monitoring data to identify potential health issues or abnormalities.\n",
        "   \n",
        "4. **Manufacturing**: Monitoring sensor data from machinery to detect early signs of equipment failure or production defects.\n",
        "   \n",
        "\n",
        "**Conclusion:**\n",
        "Deep autoencoders are a great approach to anomaly detection, particularly in scenarios where the normal pattern significantly outnumbers anomalies. However, their effectiveness can be limited by data imbalance and the nature of anomalies. Continuous model tuning, hybrid approaches combining multiple detection techniques, and incorporating domain-specific knowledge can enhance their performance and applicability.\n"
      ]
    }
  ],
  "metadata": {
    "kernelspec": {
      "display_name": "base",
      "language": "python",
      "name": "python3"
    },
    "language_info": {
      "codemirror_mode": {
        "name": "ipython",
        "version": 3
      },
      "file_extension": ".py",
      "mimetype": "text/x-python",
      "name": "python",
      "nbconvert_exporter": "python",
      "pygments_lexer": "ipython3",
      "version": "3.11.4"
    },
    "colab": {
      "provenance": [],
      "include_colab_link": true
    }
  },
  "nbformat": 4,
  "nbformat_minor": 0
}